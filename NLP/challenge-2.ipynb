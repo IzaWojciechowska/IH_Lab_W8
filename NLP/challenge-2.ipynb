{
 "cells": [
  {
   "cell_type": "markdown",
   "metadata": {},
   "source": [
    "# Challenge 2: Sentiment Analysis\n",
    "\n",
    "In this challenge we will learn sentiment analysis and practice performing sentiment analysis on Twitter tweets. \n",
    "\n",
    "## Introduction\n",
    "\n",
    "Sentiment analysis is to *systematically identify, extract, quantify, and study affective states and subjective information* based on texts ([reference](https://en.wikipedia.org/wiki/Sentiment_analysis)). In simple words, it's to understand whether a person is happy or unhappy in producing the piece of text. Why we (or rather, companies) care about sentiment in texts? It's because by understanding the sentiments in texts, we will be able to know if our customers are happy or unhappy about our products and services. If they are unhappy, the subsequent action is to figure out what have caused the unhappiness and make improvements.\n",
    "\n",
    "Basic sentiment analysis only understands the *positive* or *negative* (sometimes *neutral* too) polarities of the sentiment. More advanced sentiment analysis will also consider dimensions such as agreement, subjectivity, confidence, irony, and so on. In this challenge we will conduct the basic positive vs negative sentiment analysis based on real Twitter tweets.\n",
    "\n",
    "NLTK comes with a [sentiment analysis package](https://www.nltk.org/api/nltk.sentiment.html). This package is great for dummies to perform sentiment analysis because it requires only the textual data to make predictions. For example:\n",
    "\n",
    "```python\n",
    ">>> from nltk.sentiment.vader import SentimentIntensityAnalyzer\n",
    ">>> txt = \"Ironhack is a Global Tech School ranked num 2 worldwide.  ",
    " ",
    "Our mission is to help people transform their careers and join a thriving community of tech professionals that love what they do.\"\n",
    ">>> analyzer = SentimentIntensityAnalyzer()\n",
    ">>> analyzer.polarity_scores(txt)\n",
    "{'neg': 0.0, 'neu': 0.741, 'pos': 0.259, 'compound': 0.8442}\n",
    "```\n",
    "\n",
    "In this challenge, however, you will not use NLTK's sentiment analysis package because in your Machine Learning training in the past 2 weeks you have learned how to make predictions more accurate than that. The [tweets data](https://www.kaggle.com/kazanova/sentiment140) we will be using today are already coded for the positive/negative sentiment. You will be able to use the Naïve Bayes classifier you learned in the lesson to predict the sentiment of tweets based on the labels."
   ]
  },
  {
   "cell_type": "markdown",
   "metadata": {},
   "source": [
    "## Conducting Sentiment Analysis\n",
    "\n",
    "### Loading and Exploring Data\n",
    "\n",
    "The dataset we'll be using today is located on Kaggle (https://www.kaggle.com/kazanova/sentiment140). Once you have downloaded and imported the dataset, it you will need to define the columns names: df.columns = ['target','id','date','flag','user','text']\n",
    "\n",
    "*Notes:* \n",
    "\n",
    "* The dataset is huuuuge (1.6m tweets). When you develop your data analysis codes, you can sample a subset of the data (e.g. 20k records) so that you will save a lot of time when you test your codes."
   ]
  },
  {
   "cell_type": "code",
   "execution_count": 1,
   "metadata": {},
   "outputs": [],
   "source": [
    "import re\n",
    "import pandas as pd\n",
    "import nltk\n",
    "from nltk.tokenize import word_tokenize"
   ]
  },
  {
   "cell_type": "code",
   "execution_count": 2,
   "metadata": {},
   "outputs": [],
   "source": [
    "sentiments_data = pd.read_csv('./sentiment.csv', encoding = 'latin-1',\n",
    "                              names = ['target', 'id', 'date', 'flag', 'user', 'text']).sample(frac=0.001)"
   ]
  },
  {
   "cell_type": "markdown",
   "metadata": {},
   "source": [
    "### Prepare Textual Data for Sentiment Analysis\n",
    "\n",
    "Now, apply the functions you have written in Challenge 1 to your whole data set. These functions include:\n",
    "\n",
    "* `clean_up()`\n",
    "\n",
    "* `tokenize()`\n",
    "\n",
    "* `stem_and_lemmatize()`\n",
    "\n",
    "* `remove_stopwords()`\n",
    "\n",
    "Create a new column called `text_processed` in the dataframe to contain the processed data. At the end, your `text_processed` column should contain lists of word tokens that are cleaned up. Your data should look like below:\n",
    "\n",
    "![Processed Data](data-cleaning-results.png)"
   ]
  },
  {
   "cell_type": "code",
   "execution_count": 3,
   "metadata": {},
   "outputs": [],
   "source": [
    "def clean_up(text):\n",
    "    clean_text = \"\"\n",
    "    url = re.search(\"(?P<url>https?://[^\\s]+)\", text)\n",
    "    if url is not None:\n",
    "        url = url.group(\"url\")\n",
    "        text = text.replace(url, '')\n",
    "    for character in text:\n",
    "        if character.isalpha() or character.isspace():\n",
    "            clean_text += character\n",
    "        else:\n",
    "            clean_text += ' '\n",
    "    return word_tokenize(clean_text)\n",
    "\n",
    "sentiments_data['text_processed'] = sentiments_data['text'].apply(clean_up)"
   ]
  },
  {
   "cell_type": "code",
   "execution_count": 4,
   "metadata": {},
   "outputs": [
    {
     "data": {
      "text/html": [
       "<div>\n",
       "<style scoped>\n",
       "    .dataframe tbody tr th:only-of-type {\n",
       "        vertical-align: middle;\n",
       "    }\n",
       "\n",
       "    .dataframe tbody tr th {\n",
       "        vertical-align: top;\n",
       "    }\n",
       "\n",
       "    .dataframe thead th {\n",
       "        text-align: right;\n",
       "    }\n",
       "</style>\n",
       "<table border=\"1\" class=\"dataframe\">\n",
       "  <thead>\n",
       "    <tr style=\"text-align: right;\">\n",
       "      <th></th>\n",
       "      <th>target</th>\n",
       "      <th>id</th>\n",
       "      <th>date</th>\n",
       "      <th>flag</th>\n",
       "      <th>user</th>\n",
       "      <th>text</th>\n",
       "      <th>text_processed</th>\n",
       "    </tr>\n",
       "  </thead>\n",
       "  <tbody>\n",
       "    <tr>\n",
       "      <th>214801</th>\n",
       "      <td>0</td>\n",
       "      <td>1975321331</td>\n",
       "      <td>Sat May 30 14:54:50 PDT 2009</td>\n",
       "      <td>NO_QUERY</td>\n",
       "      <td>sammie_doodle</td>\n",
       "      <td>Oh noes! Here comes the Disney-cry part of Nar...</td>\n",
       "      <td>[Oh, noes, Here, comes, the, Disney, cry, part...</td>\n",
       "    </tr>\n",
       "    <tr>\n",
       "      <th>1275820</th>\n",
       "      <td>4</td>\n",
       "      <td>2001132822</td>\n",
       "      <td>Mon Jun 01 23:56:25 PDT 2009</td>\n",
       "      <td>NO_QUERY</td>\n",
       "      <td>kevoiscool</td>\n",
       "      <td>I just had the MOST AMAZING night EVER!!! I lo...</td>\n",
       "      <td>[I, just, had, the, MOST, AMAZING, night, EVER...</td>\n",
       "    </tr>\n",
       "    <tr>\n",
       "      <th>76266</th>\n",
       "      <td>0</td>\n",
       "      <td>1695547290</td>\n",
       "      <td>Mon May 04 06:24:08 PDT 2009</td>\n",
       "      <td>NO_QUERY</td>\n",
       "      <td>ToTheMoon3</td>\n",
       "      <td>i wish it were still the weekend</td>\n",
       "      <td>[i, wish, it, were, still, the, weekend]</td>\n",
       "    </tr>\n",
       "    <tr>\n",
       "      <th>252684</th>\n",
       "      <td>0</td>\n",
       "      <td>1983802684</td>\n",
       "      <td>Sun May 31 13:51:57 PDT 2009</td>\n",
       "      <td>NO_QUERY</td>\n",
       "      <td>laironald</td>\n",
       "      <td>What happened?  It was such a beautiful day.. ...</td>\n",
       "      <td>[What, happened, It, was, such, a, beautiful, ...</td>\n",
       "    </tr>\n",
       "    <tr>\n",
       "      <th>526679</th>\n",
       "      <td>0</td>\n",
       "      <td>2194355985</td>\n",
       "      <td>Tue Jun 16 09:41:06 PDT 2009</td>\n",
       "      <td>NO_QUERY</td>\n",
       "      <td>chloevdc</td>\n",
       "      <td>@elliottschoolgw thanks for the shout out. we ...</td>\n",
       "      <td>[elliottschoolgw, thanks, for, the, shout, out...</td>\n",
       "    </tr>\n",
       "    <tr>\n",
       "      <th>...</th>\n",
       "      <td>...</td>\n",
       "      <td>...</td>\n",
       "      <td>...</td>\n",
       "      <td>...</td>\n",
       "      <td>...</td>\n",
       "      <td>...</td>\n",
       "      <td>...</td>\n",
       "    </tr>\n",
       "    <tr>\n",
       "      <th>284320</th>\n",
       "      <td>0</td>\n",
       "      <td>1993195762</td>\n",
       "      <td>Mon Jun 01 09:59:16 PDT 2009</td>\n",
       "      <td>NO_QUERY</td>\n",
       "      <td>iyaitssuzanne</td>\n",
       "      <td>this odeon in town does my head in</td>\n",
       "      <td>[this, odeon, in, town, does, my, head, in]</td>\n",
       "    </tr>\n",
       "    <tr>\n",
       "      <th>1246934</th>\n",
       "      <td>4</td>\n",
       "      <td>1995427782</td>\n",
       "      <td>Mon Jun 01 13:28:28 PDT 2009</td>\n",
       "      <td>NO_QUERY</td>\n",
       "      <td>omgitsashton</td>\n",
       "      <td>@xCristyx hey cristy, I love your site!  we're...</td>\n",
       "      <td>[xCristyx, hey, cristy, I, love, your, site, w...</td>\n",
       "    </tr>\n",
       "    <tr>\n",
       "      <th>1280136</th>\n",
       "      <td>4</td>\n",
       "      <td>2001605876</td>\n",
       "      <td>Tue Jun 02 01:26:44 PDT 2009</td>\n",
       "      <td>NO_QUERY</td>\n",
       "      <td>giz_zellie</td>\n",
       "      <td>@19mark90 HELLLOOO  WHAT ARE U GUYS DOING UP S...</td>\n",
       "      <td>[mark, HELLLOOO, WHAT, ARE, U, GUYS, DOING, UP...</td>\n",
       "    </tr>\n",
       "    <tr>\n",
       "      <th>761882</th>\n",
       "      <td>0</td>\n",
       "      <td>2297527100</td>\n",
       "      <td>Tue Jun 23 10:33:08 PDT 2009</td>\n",
       "      <td>NO_QUERY</td>\n",
       "      <td>x0concettaa</td>\n",
       "      <td>can't believe jon &amp;amp; kate are over  aww, i ...</td>\n",
       "      <td>[can, t, believe, jon, amp, kate, are, over, a...</td>\n",
       "    </tr>\n",
       "    <tr>\n",
       "      <th>643959</th>\n",
       "      <td>0</td>\n",
       "      <td>2235903064</td>\n",
       "      <td>Fri Jun 19 02:21:45 PDT 2009</td>\n",
       "      <td>NO_QUERY</td>\n",
       "      <td>godskiwi</td>\n",
       "      <td>@buyloewen does bulimia count? and no i dont r...</td>\n",
       "      <td>[buyloewen, does, bulimia, count, and, no, i, ...</td>\n",
       "    </tr>\n",
       "  </tbody>\n",
       "</table>\n",
       "<p>1600 rows × 7 columns</p>\n",
       "</div>"
      ],
      "text/plain": [
       "         target          id                          date      flag  \\\n",
       "214801        0  1975321331  Sat May 30 14:54:50 PDT 2009  NO_QUERY   \n",
       "1275820       4  2001132822  Mon Jun 01 23:56:25 PDT 2009  NO_QUERY   \n",
       "76266         0  1695547290  Mon May 04 06:24:08 PDT 2009  NO_QUERY   \n",
       "252684        0  1983802684  Sun May 31 13:51:57 PDT 2009  NO_QUERY   \n",
       "526679        0  2194355985  Tue Jun 16 09:41:06 PDT 2009  NO_QUERY   \n",
       "...         ...         ...                           ...       ...   \n",
       "284320        0  1993195762  Mon Jun 01 09:59:16 PDT 2009  NO_QUERY   \n",
       "1246934       4  1995427782  Mon Jun 01 13:28:28 PDT 2009  NO_QUERY   \n",
       "1280136       4  2001605876  Tue Jun 02 01:26:44 PDT 2009  NO_QUERY   \n",
       "761882        0  2297527100  Tue Jun 23 10:33:08 PDT 2009  NO_QUERY   \n",
       "643959        0  2235903064  Fri Jun 19 02:21:45 PDT 2009  NO_QUERY   \n",
       "\n",
       "                  user                                               text  \\\n",
       "214801   sammie_doodle  Oh noes! Here comes the Disney-cry part of Nar...   \n",
       "1275820     kevoiscool  I just had the MOST AMAZING night EVER!!! I lo...   \n",
       "76266       ToTheMoon3                  i wish it were still the weekend    \n",
       "252684       laironald  What happened?  It was such a beautiful day.. ...   \n",
       "526679        chloevdc  @elliottschoolgw thanks for the shout out. we ...   \n",
       "...                ...                                                ...   \n",
       "284320   iyaitssuzanne                this odeon in town does my head in    \n",
       "1246934   omgitsashton  @xCristyx hey cristy, I love your site!  we're...   \n",
       "1280136     giz_zellie  @19mark90 HELLLOOO  WHAT ARE U GUYS DOING UP S...   \n",
       "761882     x0concettaa  can't believe jon &amp; kate are over  aww, i ...   \n",
       "643959        godskiwi  @buyloewen does bulimia count? and no i dont r...   \n",
       "\n",
       "                                            text_processed  \n",
       "214801   [Oh, noes, Here, comes, the, Disney, cry, part...  \n",
       "1275820  [I, just, had, the, MOST, AMAZING, night, EVER...  \n",
       "76266             [i, wish, it, were, still, the, weekend]  \n",
       "252684   [What, happened, It, was, such, a, beautiful, ...  \n",
       "526679   [elliottschoolgw, thanks, for, the, shout, out...  \n",
       "...                                                    ...  \n",
       "284320         [this, odeon, in, town, does, my, head, in]  \n",
       "1246934  [xCristyx, hey, cristy, I, love, your, site, w...  \n",
       "1280136  [mark, HELLLOOO, WHAT, ARE, U, GUYS, DOING, UP...  \n",
       "761882   [can, t, believe, jon, amp, kate, are, over, a...  \n",
       "643959   [buyloewen, does, bulimia, count, and, no, i, ...  \n",
       "\n",
       "[1600 rows x 7 columns]"
      ]
     },
     "execution_count": 4,
     "metadata": {},
     "output_type": "execute_result"
    }
   ],
   "source": [
    "sentiments_data"
   ]
  },
  {
   "cell_type": "markdown",
   "metadata": {},
   "source": [
    "### Creating Bag of Words\n",
    "\n",
    "The purpose of this step is to create a [bag of words](https://en.wikipedia.org/wiki/Bag-of-words_model) from the processed data. The bag of words contains all the unique words in your whole text body (a.k.a. *corpus*) with the number of occurrence of each word. It will allow you to understand which words are the most important features across the whole corpus.\n",
    "\n",
    "Also, you can imagine you will have a massive set of words. The less important words (i.e. those of very low number of occurrence) do not contribute much to the sentiment. Therefore, you only need to use the most important words to build your feature set in the next step. In our case, we will use the top 5,000 words with the highest frequency to build the features.\n",
    "\n",
    "In the cell below, combine all the words in `text_processed` and calculate the frequency distribution of all words. A convenient library to calculate the term frequency distribution is NLTK's `FreqDist` class ([documentation](https://www.nltk.org/api/nltk.html#module-nltk.probability)). Then select the top 5,000 words from the frequency distribution."
   ]
  },
  {
   "cell_type": "code",
   "execution_count": 5,
   "metadata": {},
   "outputs": [],
   "source": [
    "def bag_words(dataframe, column):\n",
    "\n",
    "    frequency_dist = nltk.FreqDist()\n",
    "\n",
    "    for words in dataframe[column]:\n",
    "        for word in words:\n",
    "            frequency_dist[word] += 1\n",
    "\n",
    "    return list(frequency_dist.keys())[:5000]\n",
    "\n",
    "words = bag_words(sentiments_data, 'text_processed')"
   ]
  },
  {
   "cell_type": "markdown",
   "metadata": {},
   "source": [
    "### Building Features\n",
    "\n",
    "Now let's build the features. Using the top 5,000 words, create a 2-dimensional matrix to record whether each of those words is contained in each document (tweet). Then you also have an output column to indicate whether the sentiment in each tweet is positive. For example, assuming your bag of words has 5 items (`['one', 'two', 'three', 'four', 'five']`) out of 4 documents (`['A', 'B', 'C', 'D']`), your feature set is essentially:\n",
    "\n",
    "| Doc | one | two | three | four | five | is_positive |\n",
    "|---|---|---|---|---|---|---|\n",
    "| A | True | False | False | True | False | True |\n",
    "| B | False | False | False | True | True | False |\n",
    "| C | False | True | False | False | False | True |\n",
    "| D | True | False | False | False | True | False|\n",
    "\n",
    "However, because the `nltk.NaiveBayesClassifier.train` class we will use in the next step does not work with Pandas dataframe, the structure of your feature set should be converted to the Python list looking like below:\n",
    "\n",
    "```python\n",
    "[\n",
    "\t({\n",
    "\t\t'one': True,\n",
    "\t\t'two': False,\n",
    "\t\t'three': False,\n",
    "\t\t'four': True,\n",
    "\t\t'five': False\n",
    "\t}, True),\n",
    "\t({\n",
    "\t\t'one': False,\n",
    "\t\t'two': False,\n",
    "\t\t'three': False,\n",
    "\t\t'four': True,\n",
    "\t\t'five': True\n",
    "\t}, False),\n",
    "\t({\n",
    "\t\t'one': False,\n",
    "\t\t'two': True,\n",
    "\t\t'three': False,\n",
    "\t\t'four': False,\n",
    "\t\t'five': False\n",
    "\t}, True),\n",
    "\t({\n",
    "\t\t'one': True,\n",
    "\t\t'two': False,\n",
    "\t\t'three': False,\n",
    "\t\t'four': False,\n",
    "\t\t'five': True\n",
    "\t}, False)\n",
    "]\n",
    "```\n",
    "\n",
    "To help you in this step, watch the [following video](https://www.youtube.com/watch?v=-vVskDsHcVc) to learn how to build the feature set with Python and NLTK. The source code in this video can be found [here](https://pythonprogramming.net/words-as-features-nltk-tutorial/)."
   ]
  },
  {
   "cell_type": "markdown",
   "metadata": {},
   "source": [
    "[![Building Features](building-features.jpg)](https://www.youtube.com/watch?v=-vVskDsHcVc)"
   ]
  },
  {
   "cell_type": "code",
   "execution_count": 6,
   "metadata": {},
   "outputs": [],
   "source": [
    "def find_features(document, words):\n",
    "\n",
    "    features = {}\n",
    "    words = set(document)\n",
    "\n",
    "    for word in words:\n",
    "        features[word] = (word in words)\n",
    "\n",
    "    return features\n",
    "\n",
    "features = list()\n",
    "\n",
    "for sentence, target in zip(sentiments_data['text_processed'], sentiments_data['target']):\n",
    "    features.append((find_features(sentence, words), target))"
   ]
  },
  {
   "cell_type": "markdown",
   "metadata": {},
   "source": [
    "### Building and Traininng Naive Bayes Model\n",
    "\n",
    "In this step you will split your feature set into a training and a test set. Then you will create a Bayes classifier instance using `nltk.NaiveBayesClassifier.train` ([example](https://www.nltk.org/book/ch06.html)) to train with the training dataset.\n",
    "\n",
    "After training the model, call `classifier.show_most_informative_features()` to inspect the most important features. The output will look like:\n",
    "\n",
    "```\n",
    "Most Informative Features\n",
    "\t    snow = True            False : True   =     34.3 : 1.0\n",
    "\t  easter = True            False : True   =     26.2 : 1.0\n",
    "\t headach = True            False : True   =     20.9 : 1.0\n",
    "\t    argh = True            False : True   =     17.6 : 1.0\n",
    "\tunfortun = True            False : True   =     16.9 : 1.0\n",
    "\t    jona = True             True : False  =     16.2 : 1.0\n",
    "\t     ach = True            False : True   =     14.9 : 1.0\n",
    "\t     sad = True            False : True   =     13.0 : 1.0\n",
    "\t  parent = True            False : True   =     12.9 : 1.0\n",
    "\t  spring = True            False : True   =     12.7 : 1.0\n",
    "```\n",
    "\n",
    "The [following video](https://www.youtube.com/watch?v=rISOsUaTrO4) will help you complete this step. The source code in this video can be found [here](https://pythonprogramming.net/naive-bayes-classifier-nltk-tutorial/)."
   ]
  },
  {
   "cell_type": "markdown",
   "metadata": {},
   "source": [
    "[![Building and Training NB](nb-model-building.jpg)](https://www.youtube.com/watch?v=rISOsUaTrO4)"
   ]
  },
  {
   "cell_type": "code",
   "execution_count": 7,
   "metadata": {},
   "outputs": [],
   "source": [
    "text_classifier = nltk.NaiveBayesClassifier.train(features)"
   ]
  },
  {
   "cell_type": "markdown",
   "metadata": {},
   "source": [
    "### Testing Naive Bayes Model\n",
    "\n",
    "Now we'll test our classifier with the test dataset. This is done by calling `nltk.classify.accuracy(classifier, test)`.\n",
    "\n",
    "As mentioned in one of the tutorial videos, a Naive Bayes model is considered OK if your accuracy score is over 0.6. If your accuracy score is over 0.7, you've done a great job!"
   ]
  },
  {
   "cell_type": "code",
   "execution_count": 8,
   "metadata": {},
   "outputs": [],
   "source": [
    "accuracy = nltk.classify.accuracy(text_classifier, features)"
   ]
  },
  {
   "cell_type": "code",
   "execution_count": 9,
   "metadata": {},
   "outputs": [
    {
     "name": "stdout",
     "output_type": "stream",
     "text": [
      "0.965\n"
     ]
    }
   ],
   "source": [
    "print(accuracy)"
   ]
  },
  {
   "cell_type": "markdown",
   "metadata": {},
   "source": [
    "## Bonus Question 1: Improve Model Performance\n",
    "\n",
    "If you are still not exhausted so far and want to dig deeper, try to improve your classifier performance. There are many aspects you can dig into, for example:\n",
    "\n",
    "* Improve stemming and lemmatization. Inspect your bag of words and the most important features. Are there any words you should furuther remove from analysis? You can append these words to further remove to the stop words list.\n",
    "\n",
    "* Remember we only used the top 5,000 features to build model? Try using different numbers of top features. The bottom line is to use as few features as you can without compromising your model performance. The fewer features you select into your model, the faster your model is trained. Then you can use a larger sample size to improve your model accuracy score."
   ]
  },
  {
   "cell_type": "code",
   "execution_count": 10,
   "metadata": {},
   "outputs": [],
   "source": [
    "# your code here"
   ]
  },
  {
   "cell_type": "markdown",
   "metadata": {},
   "source": [
    "## Bonus Question 2: Machine Learning Pipeline\n",
    "\n",
    "In a new Jupyter Notebook, combine all your codes into a function (or a class). Your new function will execute the complete machine learning pipeline job by receiving the dataset location and output the classifier. This will allow you to use your function to predict the sentiment of any tweet in real time. "
   ]
  },
  {
   "cell_type": "code",
   "execution_count": 11,
   "metadata": {},
   "outputs": [],
   "source": [
    "# your code here"
   ]
  },
  {
   "cell_type": "markdown",
   "metadata": {},
   "source": [
    "## Bonus Question 3: Apache Spark\n",
    "\n",
    "If you have completed the Apache Spark advanced topic lab, what you can do is to migrate your pipeline from local to a Databricks Notebook. Share your notebook with your instructor and classmates to show off your achievements!"
   ]
  },
  {
   "cell_type": "code",
   "execution_count": 12,
   "metadata": {},
   "outputs": [],
   "source": [
    "# your code here"
   ]
  }
 ],
 "metadata": {
  "kernelspec": {
   "display_name": "Python 3 (ipykernel)",
   "language": "python",
   "name": "python3"
  },
  "language_info": {
   "codemirror_mode": {
    "name": "ipython",
    "version": 3
   },
   "file_extension": ".py",
   "mimetype": "text/x-python",
   "name": "python",
   "nbconvert_exporter": "python",
   "pygments_lexer": "ipython3",
   "version": "3.11.5"
  }
 },
 "nbformat": 4,
 "nbformat_minor": 2
}
